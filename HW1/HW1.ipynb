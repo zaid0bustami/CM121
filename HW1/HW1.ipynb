{
 "cells": [
  {
   "cell_type": "code",
   "execution_count": 3,
   "id": "611f6fdb",
   "metadata": {},
   "outputs": [],
   "source": [
    "import pandas as pd\n",
    "import math\n",
    "import random\n",
    "import os\n",
    "os.chdir(\"C:\\\\Users\\\\zaid0\\\\Documents\\\\R\\\\CM121\")"
   ]
  },
  {
   "cell_type": "code",
   "execution_count": 4,
   "id": "5bd144ce",
   "metadata": {},
   "outputs": [],
   "source": [
    "# read in data and global variables\n",
    "reads = pd.read_table(\"HW1\\\\Data\\\\reads.tsv\", sep = \"\\t\")\n",
    "errors = pd.read_table(\"HW1\\\\Data\\\\errors.tsv\", sep = \"\\t\", header = None)\n",
    "transitions = pd.read_table(\"HW1\\\\Data\\\\transitions.tsv\", sep = \"\\t\", header = None)\n",
    "pAA = 0.95**2\n",
    "pTT = 0.05**2\n",
    "pAT = 1 - (pAA + pTT)"
   ]
  },
  {
   "cell_type": "code",
   "execution_count": 6,
   "id": "df235de5",
   "metadata": {},
   "outputs": [],
   "source": [
    "# function that generates posterior probabilities for a strictly biallelic model, assuming P(S = A) = P(S = B)\n",
    "def posteriorProbs(df, A, B, pAA, pBB, pAB):\n",
    "    # generate log liklihoods for each genotype\n",
    "    llAA = 0\n",
    "    llBB = 0\n",
    "    llAB = 0\n",
    "    for i in range(len(df)):\n",
    "        O = df.at[i, 'observations']\n",
    "        E = df.at[i, 'probability_of_error']\n",
    "        if O == A:\n",
    "            E = 1 - E\n",
    "        llAA += math.log(E)\n",
    "        llBB += math.log(1 - E) # all error probabilities are just the complement of the AA genotype's\n",
    "        llAB += math.log(0.5) # read's likelihood simplifies to 0.5 under assumption that P(S = A) = P(S = B)\n",
    "    # calculate denominator of Bayes' theorem equation\n",
    "    d = math.exp(llAA + math.log(pAA)) + math.exp(llBB + math.log(pBB)) + math.exp(llAB + math.log(pAB))\n",
    "    # calculate posterior probabilities for each genotype\n",
    "    ppAA = math.exp(llAA + math.log(pAA) - math.log(d))\n",
    "    ppBB = math.exp(llBB + math.log(pBB) - math.log(d))\n",
    "    ppAB = math.exp(llAB + math.log(pAB) - math.log(d))\n",
    "    return [ppAA, ppBB, ppAB]"
   ]
  },
  {
   "cell_type": "code",
   "execution_count": 7,
   "id": "dd132e06",
   "metadata": {},
   "outputs": [
    {
     "name": "stdout",
     "output_type": "stream",
     "text": [
      "[4.566267927307039e-300, 6.963414923108035e-290, 1.0]\n"
     ]
    }
   ],
   "source": [
    "# 2.b\n",
    "print(posteriorProbs(reads, \"A\", \"T\", pAA, pTT, pAT))"
   ]
  },
  {
   "cell_type": "code",
   "execution_count": 8,
   "id": "be4625ef",
   "metadata": {},
   "outputs": [
    {
     "name": "stdout",
     "output_type": "stream",
     "text": [
      "[0.7450913796442712, 0.00012183530699187445, 0.25478678504873675]\n"
     ]
    }
   ],
   "source": [
    "# 2.c\n",
    "size = 5\n",
    "sample = reads.sample(n = size, random_state = 123)\n",
    "sample.index = range(size)\n",
    "print(posteriorProbs(sample, \"A\", \"T\", pAA, pTT, pAT))"
   ]
  },
  {
   "cell_type": "code",
   "execution_count": 9,
   "id": "56f49d88",
   "metadata": {},
   "outputs": [
    {
     "data": {
      "text/plain": [
       "<AxesSubplot: ylabel='Frequency'>"
      ]
     },
     "execution_count": 9,
     "metadata": {},
     "output_type": "execute_result"
    },
    {
     "data": {
      "image/png": "[encoded data removed]",
      "text/plain": [
       "<Figure size 432x288 with 1 Axes>"
      ]
     },
     "metadata": {
      "needs_background": "light"
     },
     "output_type": "display_data"
    },
    {
     "data": {
      "image/png": "[encoded data removed]",
      "text/plain": [
       "<Figure size 432x288 with 1 Axes>"
      ]
     },
     "metadata": {
      "needs_background": "light"
     },
     "output_type": "display_data"
    },
    {
     "data": {
      "image/png": "[encoded data removed]",
      "text/plain": [
       "<Figure size 432x288 with 1 Axes>"
      ]
     },
     "metadata": {
      "needs_background": "light"
     },
     "output_type": "display_data"
    }
   ],
   "source": [
    "#2.d\n",
    "size = 5\n",
    "bootstrap1 = pd.DataFrame(\n",
    "            {\"AA\" : [],\n",
    "             \"TT\" : [],\n",
    "             \"AT\" : []}\n",
    "            )\n",
    "for i in range(1000):\n",
    "    sample = reads.sample(n = size, random_state = i) # setting seed ensures reproducibility\n",
    "    sample.index = range(size)\n",
    "    pp = posteriorProbs(sample, \"A\", \"T\", pAA, pTT, pAT)\n",
    "    df = pd.DataFrame(\n",
    "            {\"AA\" : [pp[0]],\n",
    "             \"TT\" : [pp[1]],\n",
    "             \"AT\" : [pp[2]]}\n",
    "        )\n",
    "    bootstrap1 = pd.concat([bootstrap1, df], axis = 0)\n",
    "    \n",
    "bootstrap1[[\"AA\"]].plot.hist(bins = 50)\n",
    "bootstrap1[[\"TT\"]].plot.hist(bins = 50)\n",
    "bootstrap1[[\"AT\"]].plot.hist(bins = 50)"
   ]
  },
  {
   "cell_type": "code",
   "execution_count": 10,
   "id": "b2db8586",
   "metadata": {},
   "outputs": [
    {
     "data": {
      "text/plain": [
       "<AxesSubplot: ylabel='Frequency'>"
      ]
     },
     "execution_count": 10,
     "metadata": {},
     "output_type": "execute_result"
    },
    {
     "data": {
      "image/png": "[encoded data removed]",
      "text/plain": [
       "<Figure size 432x288 with 1 Axes>"
      ]
     },
     "metadata": {
      "needs_background": "light"
     },
     "output_type": "display_data"
    },
    {
     "data": {
      "image/png": "[encoded data removed]",
      "text/plain": [
       "<Figure size 432x288 with 1 Axes>"
      ]
     },
     "metadata": {
      "needs_background": "light"
     },
     "output_type": "display_data"
    },
    {
     "data": {
      "image/png": "[encoded data removed]",
      "text/plain": [
       "<Figure size 432x288 with 1 Axes>"
      ]
     },
     "metadata": {
      "needs_background": "light"
     },
     "output_type": "display_data"
    }
   ],
   "source": [
    "#2.e\n",
    "size = 50\n",
    "bootstrap2 = pd.DataFrame(\n",
    "            {\"AA\" : [],\n",
    "             \"TT\" : [],\n",
    "             \"AT\" : []}\n",
    "            )\n",
    "for i in range(1000):\n",
    "    sample = reads.sample(n = size, random_state = i) # setting seed ensures reproducibility\n",
    "    sample.index = range(size)\n",
    "    pp = posteriorProbs(sample, \"A\", \"T\", pAA, pTT, pAT)\n",
    "    df = pd.DataFrame(\n",
    "            {\"AA\" : [pp[0]],\n",
    "             \"TT\" : [pp[1]],\n",
    "             \"AT\" : [pp[2]]}\n",
    "        )\n",
    "    bootstrap2 = pd.concat([bootstrap2, df], axis = 0)\n",
    "    \n",
    "bootstrap2[[\"AA\"]].plot.hist(bins = 50)\n",
    "bootstrap2[[\"TT\"]].plot.hist(bins = 50)\n",
    "bootstrap2[[\"AT\"]].plot.hist(bins = 50)"
   ]
  },
  {
   "cell_type": "code",
   "execution_count": 11,
   "id": "7043ecbb",
   "metadata": {},
   "outputs": [
    {
     "name": "stdout",
     "output_type": "stream",
     "text": [
      "n = 5\n",
      "                 AA            TT           AT\n",
      "count  1000.000000  1.000000e+03  1000.000000\n",
      "mean      0.379180  2.153111e-02     0.599289\n",
      "std       0.358881  6.432726e-02     0.342394\n",
      "min       0.000001  2.423744e-11     0.003942\n",
      "25%       0.032795  4.474481e-05     0.258711\n",
      "50%       0.247731  6.918706e-04     0.694837\n",
      "75%       0.741013  7.939751e-03     0.920067\n",
      "max       0.996058  3.960132e-01     0.997807 \n",
      "\n",
      "n = 50\n",
      "                  AA            TT           AT\n",
      "count  1.000000e+03  1.000000e+03  1000.000000\n",
      "mean   8.702660e-04  3.796095e-08     0.999130\n",
      "std    2.380412e-02  5.666851e-07     0.023804\n",
      "min    2.419458e-28  4.713025e-30     0.257545\n",
      "25%    1.076320e-17  3.289499e-19     1.000000\n",
      "50%    5.672024e-15  2.286746e-16     1.000000\n",
      "75%    5.644029e-12  1.658024e-13     1.000000\n",
      "max    7.424545e-01  1.376403e-05     1.000000\n"
     ]
    }
   ],
   "source": [
    "# 2.f\n",
    "print(\"n = 5\\n\", bootstrap1.describe(), \"\\n\")\n",
    "print(\"n = 50\\n\", bootstrap2.describe())"
   ]
  },
  {
   "cell_type": "code",
   "execution_count": 73,
   "id": "a20955de",
   "metadata": {},
   "outputs": [
    {
     "data": {
      "text/plain": [
       "[5.151552673764379e-11, 7.162852210144656e-07, 0.9999992836632651]"
      ]
     },
     "execution_count": 73,
     "metadata": {},
     "output_type": "execute_result"
    }
   ],
   "source": [
    "# generates reads for a biallelic model, with the option to account for transitions or not\n",
    "def generateReads(N, A, B, transition = True):\n",
    "    result = pd.DataFrame(\n",
    "            {\"observations\" : [],\n",
    "             \"probability_of_error\" : [],\n",
    "             \"error_truth\" : []}\n",
    "        )\n",
    "    bases = {\"A\" : 0, \"C\" : 1, \"G\" : 2, \"T\" : 3} # dictionary to help with indexing into transitions\n",
    "    for n in range(N):\n",
    "        # choose an allele to sample from\n",
    "        S = random.randint(0, 1)\n",
    "        # decide whether an error occured depending on the position k along the read\n",
    "        k = random.randint(0, 99)\n",
    "        e = errors.iat[k, 0]\n",
    "        E = random.choices([0, 1], weights = [1 - e, e])[0]\n",
    "        # if you sampled the major allele and there was no error\n",
    "        if S == 0 and E == 0:\n",
    "            O = A\n",
    "            T = 0\n",
    "        # if you sampled the minor allele and there was no error\n",
    "        elif S == 1 and E == 0:\n",
    "            O = B\n",
    "            T = 0\n",
    "        # if you sampled the major allele and there was an error\n",
    "        elif S == 0 and E == 1:\n",
    "            if transition:\n",
    "                w = list(transitions.iloc[bases[A]])\n",
    "                O = random.choices(list(bases.keys()), weights = w)[0]\n",
    "            else:\n",
    "                O = B\n",
    "        # if you sampled the minor allele and there was an error\n",
    "        elif S == 1 and E == 1:\n",
    "            if transition:\n",
    "                w = list(transitions.iloc[bases[B]])\n",
    "                O = random.choices(list(bases.keys()), weights = w)[0]\n",
    "            else:\n",
    "                O = A\n",
    "        df = pd.DataFrame(\n",
    "            {\"observations\" : [O],\n",
    "             \"probability_of_error\" : [e],\n",
    "             \"error_truth\" : [\"True\" if (E == 1) else \"False\"]}\n",
    "        )\n",
    "        result = pd.concat([result, df], axis = 0)\n",
    "    result.index = range(N)\n",
    "    return(result)\n",
    "\n",
    "def posteriorProbs2(df, A, B, pAA, pBB, pAB):\n",
    "    # generate log liklihoods for each genotype\n",
    "    llAA = 0\n",
    "    llBB = 0\n",
    "    llAB = 0\n",
    "    bases = {\"A\" : 0, \"C\" : 1, \"G\" : 2, \"T\" : 3} # dictionary to help with indexing into transitions\n",
    "    for i in range(len(df)):\n",
    "        O = df.at[i, 'observations']\n",
    "        E = df.at[i, 'probability_of_error']\n",
    "        T_A = transitions.iat[bases[A], bases[O]] # probability of a transition from the major allele to the observation\n",
    "        T_B = transitions.iat[bases[B], bases[O]] # probability of a transition from the minor allele to the observation\n",
    "        # if the base is the major allele\n",
    "        if O == A:\n",
    "            llAA += math.log(1 - E)\n",
    "            llBB += math.log(E * T_B)\n",
    "            llAB += math.log((1 - E) * 0.5 + (E * T_B) * 0.5)\n",
    "        # if the base is the minor allele\n",
    "        elif O == B:\n",
    "            llAA += math.log(E * T_A)\n",
    "            llBB += math.log(1 - E)\n",
    "            llAB += math.log((E * T_A) * 0.5 + (1 - E) * 0.5)\n",
    "        # if the base is neither\n",
    "        else:\n",
    "            llAA += math.log(E * T_A)\n",
    "            llBB += math.log(E * T_B)\n",
    "            llAB += math.log((E * T_A) * 0.5 + (E * T_B) * 0.5)\n",
    "    # calculate denominator of Bayes' theorem equation\n",
    "    d = math.exp(llAA + math.log(pAA)) + math.exp(llBB + math.log(pBB)) + math.exp(llAB + math.log(pAB))\n",
    "    # calculate posterior probabilities for each genotype\n",
    "    ppAA = math.exp(llAA + math.log(pAA) - math.log(d))\n",
    "    ppBB = math.exp(llBB + math.log(pBB) - math.log(d))\n",
    "    ppAB = math.exp(llAB + math.log(pAB) - math.log(d))\n",
    "    return [ppAA, ppBB, ppAB]\n",
    "\n",
    "# Example with a fixed genotype of AT\n",
    "random.seed(123)\n",
    "df = generateReads(N = 20, A = \"A\", B = \"T\")\n",
    "posteriorProbs2(df, A = \"A\", B = \"T\", pAA = pAA, pBB = pTT, pAB = pAT)"
   ]
  },
  {
   "cell_type": "code",
   "execution_count": 77,
   "id": "df2ba819",
   "metadata": {},
   "outputs": [
    {
     "data": {
      "text/plain": [
       "<AxesSubplot: ylabel='Frequency'>"
      ]
     },
     "execution_count": 77,
     "metadata": {},
     "output_type": "execute_result"
    },
    {
     "data": {
      "image/png": "[encoded data removed]",
      "text/plain": [
       "<Figure size 432x288 with 1 Axes>"
      ]
     },
     "metadata": {
      "needs_background": "light"
     },
     "output_type": "display_data"
    },
    {
     "data": {
      "image/png": "[encoded data removed]",
      "text/plain": [
       "<Figure size 432x288 with 1 Axes>"
      ]
     },
     "metadata": {
      "needs_background": "light"
     },
     "output_type": "display_data"
    },
    {
     "data": {
      "image/png": "[encoded data removed]",
      "text/plain": [
       "<Figure size 432x288 with 1 Axes>"
      ]
     },
     "metadata": {
      "needs_background": "light"
     },
     "output_type": "display_data"
    }
   ],
   "source": [
    "# 3.c.2 - posterior probability simulations and histogram\n",
    "simulation = pd.DataFrame(\n",
    "            {\"AA\" : [],\n",
    "             \"TT\" : [],\n",
    "             \"AT\" : []}\n",
    "            )\n",
    "for i in range(1000):\n",
    "    # we're going to fix a true genotype AT\n",
    "    random.seed(i)\n",
    "    sample = generateReads(N = 20, A = \"A\", B = \"T\")\n",
    "    pp = posteriorProbs2(sample, \"A\", \"T\", pAA, pTT, pAT) # posteriorProbs2 is able to account for transitions\n",
    "    df = pd.DataFrame(\n",
    "            {\"AA\" : [pp[0]],\n",
    "             \"TT\" : [pp[1]],\n",
    "             \"AT\" : [pp[2]]}\n",
    "        )\n",
    "    simulation = pd.concat([simulation, df], axis = 0)\n",
    "    \n",
    "simulation[[\"AA\"]].plot.hist(bins = 50)\n",
    "simulation[[\"TT\"]].plot.hist(bins = 50)\n",
    "simulation[[\"AT\"]].plot.hist(bins = 50)"
   ]
  },
  {
   "cell_type": "code",
   "execution_count": 78,
   "id": "13ed76e7",
   "metadata": {},
   "outputs": [
    {
     "data": {
      "text/plain": [
       "AA    0.016478\n",
       "TT    0.000529\n",
       "AT    0.982993\n",
       "dtype: float64"
      ]
     },
     "execution_count": 78,
     "metadata": {},
     "output_type": "execute_result"
    }
   ],
   "source": [
    "# 3.c.3 probability for each genotype\n",
    "simulation.mean()"
   ]
  },
  {
   "cell_type": "code",
   "execution_count": 81,
   "id": "98bc4ef6",
   "metadata": {},
   "outputs": [
    {
     "data": {
      "text/plain": [
       "<AxesSubplot: ylabel='Frequency'>"
      ]
     },
     "execution_count": 81,
     "metadata": {},
     "output_type": "execute_result"
    },
    {
     "data": {
      "image/png": "[encoded data removed]",
      "text/plain": [
       "<Figure size 432x288 with 1 Axes>"
      ]
     },
     "metadata": {
      "needs_background": "light"
     },
     "output_type": "display_data"
    },
    {
     "data": {
      "image/png": "[encoded data removed]",
      "text/plain": [
       "<Figure size 432x288 with 1 Axes>"
      ]
     },
     "metadata": {
      "needs_background": "light"
     },
     "output_type": "display_data"
    },
    {
     "data": {
      "image/png": "[encoded data removed]",
      "text/plain": [
       "<Figure size 432x288 with 1 Axes>"
      ]
     },
     "metadata": {
      "needs_background": "light"
     },
     "output_type": "display_data"
    }
   ],
   "source": [
    "# 3.d.1 - posterior probability simulations and histogram\n",
    "simulation2 = pd.DataFrame(\n",
    "            {\"AA\" : [],\n",
    "             \"TT\" : [],\n",
    "             \"AT\" : []}\n",
    "            )\n",
    "for i in range(1000):\n",
    "    # we're going to fix a true genotype AT\n",
    "    random.seed(i)\n",
    "    sample = generateReads(N = 20, A = \"A\", B = \"T\", transition = False)\n",
    "    pp = posteriorProbs(sample, \"A\", \"T\", pAA, pTT, pAT) # posteriorProbs has no dependency on transitions\n",
    "    df = pd.DataFrame(\n",
    "            {\"AA\" : [pp[0]],\n",
    "             \"TT\" : [pp[1]],\n",
    "             \"AT\" : [pp[2]]}\n",
    "        )\n",
    "    simulation2 = pd.concat([simulation2, df], axis = 0)\n",
    "    \n",
    "simulation2[[\"AA\"]].plot.hist(bins = 50)\n",
    "simulation2[[\"TT\"]].plot.hist(bins = 50)\n",
    "simulation2[[\"AT\"]].plot.hist(bins = 50)"
   ]
  },
  {
   "cell_type": "code",
   "execution_count": 82,
   "id": "c7c1c50f",
   "metadata": {},
   "outputs": [
    {
     "data": {
      "text/plain": [
       "AA    0.035528\n",
       "TT    0.000627\n",
       "AT    0.963845\n",
       "dtype: float64"
      ]
     },
     "execution_count": 82,
     "metadata": {},
     "output_type": "execute_result"
    }
   ],
   "source": [
    "# 3.d.2 - probability for each genotype\n",
    "simulation2.mean()"
   ]
  }
 ],
 "metadata": {
  "kernelspec": {
   "display_name": "Python 3 (ipykernel)",
   "language": "python",
   "name": "python3"
  },
  "language_info": {
   "codemirror_mode": {
    "name": "ipython",
    "version": 3
   },
   "file_extension": ".py",
   "mimetype": "text/x-python",
   "name": "python",
   "nbconvert_exporter": "python",
   "pygments_lexer": "ipython3",
   "version": "3.10.2"
  }
 },
 "nbformat": 4,
 "nbformat_minor": 5
}
