{
 "cells": [
  {
   "cell_type": "code",
   "execution_count": 20,
   "id": "0f4d32a7",
   "metadata": {},
   "outputs": [],
   "source": [
    "#LIBRARIES\n",
    "from Bio.Sequencing.Applications import SamtoolsPhaseCommandline as sam"
   ]
  },
  {
   "cell_type": "code",
   "execution_count": 21,
   "id": "eb026f27",
   "metadata": {},
   "outputs": [
    {
     "ename": "ValueError",
     "evalue": "Option name output_bam was not found.",
     "output_type": "error",
     "traceback": [
      "\u001b[1;31m---------------------------------------------------------------------------\u001b[0m",
      "\u001b[1;31mValueError\u001b[0m                                Traceback (most recent call last)",
      "Cell \u001b[1;32mIn[21], line 2\u001b[0m\n\u001b[0;32m      1\u001b[0m b \u001b[38;5;241m=\u001b[39m \u001b[38;5;124m\"\u001b[39m\u001b[38;5;124mdata/align_sort.bam\u001b[39m\u001b[38;5;124m\"\u001b[39m\n\u001b[1;32m----> 2\u001b[0m snps \u001b[38;5;241m=\u001b[39m \u001b[43msam\u001b[49m\u001b[43m(\u001b[49m\u001b[43minput_bam\u001b[49m\u001b[38;5;241;43m=\u001b[39;49m\u001b[43mb\u001b[49m\u001b[43m,\u001b[49m\u001b[43m \u001b[49m\u001b[43moutput_bam\u001b[49m\u001b[43m \u001b[49m\u001b[38;5;241;43m=\u001b[39;49m\u001b[43m \u001b[49m\u001b[38;5;124;43m\"\u001b[39;49m\u001b[38;5;124;43mhello\u001b[39;49m\u001b[38;5;124;43m\"\u001b[39;49m\u001b[43m)\u001b[49m\n\u001b[0;32m      3\u001b[0m \u001b[38;5;28mprint\u001b[39m(snps)\n",
      "File \u001b[1;32m~\\anaconda3\\lib\\site-packages\\Bio\\Sequencing\\Applications\\_samtools.py:1029\u001b[0m, in \u001b[0;36mSamtoolsPhaseCommandline.__init__\u001b[1;34m(self, cmd, **kwargs)\u001b[0m\n\u001b[0;32m    990\u001b[0m \u001b[38;5;28mself\u001b[39m\u001b[38;5;241m.\u001b[39mprogram_name \u001b[38;5;241m=\u001b[39m cmd\n\u001b[0;32m    991\u001b[0m \u001b[38;5;28mself\u001b[39m\u001b[38;5;241m.\u001b[39mparameters \u001b[38;5;241m=\u001b[39m [\n\u001b[0;32m    992\u001b[0m     _StaticArgument(\u001b[38;5;124m\"\u001b[39m\u001b[38;5;124mphase\u001b[39m\u001b[38;5;124m\"\u001b[39m),\n\u001b[0;32m    993\u001b[0m     _Argument(\n\u001b[1;32m   (...)\u001b[0m\n\u001b[0;32m   1027\u001b[0m     ),\n\u001b[0;32m   1028\u001b[0m ]\n\u001b[1;32m-> 1029\u001b[0m AbstractCommandline\u001b[38;5;241m.\u001b[39m\u001b[38;5;21m__init__\u001b[39m(\u001b[38;5;28mself\u001b[39m, cmd, \u001b[38;5;241m*\u001b[39m\u001b[38;5;241m*\u001b[39mkwargs)\n",
      "File \u001b[1;32m~\\anaconda3\\lib\\site-packages\\Bio\\Application\\__init__.py:300\u001b[0m, in \u001b[0;36mAbstractCommandline.__init__\u001b[1;34m(self, cmd, **kwargs)\u001b[0m\n\u001b[0;32m    298\u001b[0m     \u001b[38;5;28msetattr\u001b[39m(\u001b[38;5;28mself\u001b[39m\u001b[38;5;241m.\u001b[39m\u001b[38;5;18m__class__\u001b[39m, name, prop)  \u001b[38;5;66;03m# magic!\u001b[39;00m\n\u001b[0;32m    299\u001b[0m \u001b[38;5;28;01mfor\u001b[39;00m key, value \u001b[38;5;129;01min\u001b[39;00m kwargs\u001b[38;5;241m.\u001b[39mitems():\n\u001b[1;32m--> 300\u001b[0m     \u001b[38;5;28;43mself\u001b[39;49m\u001b[38;5;241;43m.\u001b[39;49m\u001b[43mset_parameter\u001b[49m\u001b[43m(\u001b[49m\u001b[43mkey\u001b[49m\u001b[43m,\u001b[49m\u001b[43m \u001b[49m\u001b[43mvalue\u001b[49m\u001b[43m)\u001b[49m\n",
      "File \u001b[1;32m~\\anaconda3\\lib\\site-packages\\Bio\\Application\\__init__.py:415\u001b[0m, in \u001b[0;36mAbstractCommandline.set_parameter\u001b[1;34m(self, name, value)\u001b[0m\n\u001b[0;32m    413\u001b[0m             set_option \u001b[38;5;241m=\u001b[39m \u001b[38;5;28;01mTrue\u001b[39;00m\n\u001b[0;32m    414\u001b[0m \u001b[38;5;28;01mif\u001b[39;00m \u001b[38;5;129;01mnot\u001b[39;00m set_option:\n\u001b[1;32m--> 415\u001b[0m     \u001b[38;5;28;01mraise\u001b[39;00m \u001b[38;5;167;01mValueError\u001b[39;00m(\u001b[38;5;124m\"\u001b[39m\u001b[38;5;124mOption name \u001b[39m\u001b[38;5;132;01m%s\u001b[39;00m\u001b[38;5;124m was not found.\u001b[39m\u001b[38;5;124m\"\u001b[39m \u001b[38;5;241m%\u001b[39m name)\n",
      "\u001b[1;31mValueError\u001b[0m: Option name output_bam was not found."
     ]
    }
   ],
   "source": [
    "b = \"data/align_sort.bam\"\n",
    "snps = sam(input_bam=b)\n",
    "print(snps)"
   ]
  },
  {
   "cell_type": "code",
   "execution_count": 19,
   "id": "0f454d1a",
   "metadata": {},
   "outputs": [
    {
     "ename": "ApplicationError",
     "evalue": "Non-zero return code 3221225794 from 'samtools phase data/align_sort.bam'",
     "output_type": "error",
     "traceback": [
      "\u001b[1;31m---------------------------------------------------------------------------\u001b[0m",
      "\u001b[1;31mApplicationError\u001b[0m                          Traceback (most recent call last)",
      "Cell \u001b[1;32mIn[19], line 1\u001b[0m\n\u001b[1;32m----> 1\u001b[0m stdout, stderr \u001b[38;5;241m=\u001b[39m \u001b[43msnps\u001b[49m\u001b[43m(\u001b[49m\u001b[43m)\u001b[49m\n",
      "File \u001b[1;32m~\\anaconda3\\lib\\site-packages\\Bio\\Application\\__init__.py:574\u001b[0m, in \u001b[0;36mAbstractCommandline.__call__\u001b[1;34m(self, stdin, stdout, stderr, cwd, env)\u001b[0m\n\u001b[0;32m    571\u001b[0m     stderr_arg\u001b[38;5;241m.\u001b[39mclose()\n\u001b[0;32m    573\u001b[0m \u001b[38;5;28;01mif\u001b[39;00m return_code:\n\u001b[1;32m--> 574\u001b[0m     \u001b[38;5;28;01mraise\u001b[39;00m ApplicationError(return_code, \u001b[38;5;28mstr\u001b[39m(\u001b[38;5;28mself\u001b[39m), stdout_str, stderr_str)\n\u001b[0;32m    575\u001b[0m \u001b[38;5;28;01mreturn\u001b[39;00m stdout_str, stderr_str\n",
      "\u001b[1;31mApplicationError\u001b[0m: Non-zero return code 3221225794 from 'samtools phase data/align_sort.bam'"
     ]
    }
   ],
   "source": [
    "stdout, stderr = snps()\n"
   ]
  }
 ],
 "metadata": {
  "kernelspec": {
   "display_name": "Python 3 (ipykernel)",
   "language": "python",
   "name": "python3"
  },
  "language_info": {
   "codemirror_mode": {
    "name": "ipython",
    "version": 3
   },
   "file_extension": ".py",
   "mimetype": "text/x-python",
   "name": "python",
   "nbconvert_exporter": "python",
   "pygments_lexer": "ipython3",
   "version": "3.9.16"
  }
 },
 "nbformat": 4,
 "nbformat_minor": 5
}
